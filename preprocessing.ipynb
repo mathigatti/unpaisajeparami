{
 "cells": [
  {
   "cell_type": "code",
   "execution_count": 49,
   "id": "49fbf024-7a0b-42c7-8420-eca8175cb8a5",
   "metadata": {
    "tags": []
   },
   "outputs": [],
   "source": [
    "import pandas as pd\n",
    "from glob import glob\n",
    "import json\n",
    "\n",
    "data = {}\n",
    "\n",
    "for data_file in glob(\"data/*\"):\n",
    "    with open(data_file,'r') as f:\n",
    "        text = f.read()\n",
    "    with open(data_file,'w') as f:\n",
    "        for a,b in [(\"Wines-Sky\", \"WinesSky\"), (\"Burle Marx\", \"BurleMarx\")]:\n",
    "            text = text.replace(a,b)\n",
    "        f.write(text)\n",
    "\n",
    "for data_file in glob(\"data/*\"):\n",
    "    #print(data_file)\n",
    "    df = pd.read_csv(data_file)\n",
    "\n",
    "    df = df[~df[\"Time\"].isnull()].drop(columns=[\"Slide\"]).copy()\n",
    "    df = df[['Device', 'Language', 'Time', 'Caption', 'Code', 'Author', 'Title', 'Audio Folder', 'Audio Id']]\n",
    "    df[\"Time\"] = df[\"Time\"]/1000 # seconds\n",
    "    df[\"Audio Id\"] = df[\"Audio Id\"].astype(int)\n",
    "    device, language = df[[\"Device\",\"Language\"]].head(1).values.tolist()[0]\n",
    "    df[\"Audio Source\"] = df.apply(lambda x : \"/audios/\" + x[\"Audio Folder\"] + \"/\" + str(x[\"Audio Id\"]).zfill(3) + \".mp3\", axis=1)\n",
    "    df = df.drop(columns=[\"Audio Folder\", \"Audio Id\"])\n",
    "    df = df.set_index([\"Device\",\"Language\"])\n",
    "    \n",
    "    data[device + language] = df.to_dict(\"records\")\n",
    "\n",
    "\n",
    "with open(\"audios.json\", 'w') as f:\n",
    "    json.dump(data,f)"
   ]
  },
  {
   "cell_type": "code",
   "execution_count": 2,
   "id": "c1693afa-8790-46c9-ae5b-44866b6d341f",
   "metadata": {},
   "outputs": [
    {
     "name": "stdout",
     "output_type": "stream",
     "text": [
      "new_audios/Tigerman\n",
      "new_audios/Price\n",
      "new_audios/Goldsmith\n",
      "new_audios/Correa\n",
      "new_audios/BurleMarx\n",
      "new_audios/Banham\n",
      "new_audios/Wines - Sky\n",
      "new_audios/Kurokawa\n",
      "new_audios/Hadid\n",
      "new_audios/Doshi\n",
      "new_audios/Halprin\n",
      "new_audios/_MonicaPidgeonInterview\n",
      "new_audios/Smithsons\n",
      "new_audios/McCoy\n",
      "new_audios/Gehry\n",
      "new_audios/Tyng\n"
     ]
    }
   ],
   "source": [
    "import os\n",
    "from glob import glob\n",
    "for folder in glob(\"new_audios/*\"):\n",
    "    print(folder)\n",
    "    audios = sorted(glob(folder + \"/*\"))\n",
    "    for i, audio in enumerate(audios):         \n",
    "        os.rename(audio, folder + f\"/{i+1:03}.mp3\")"
   ]
  },
  {
   "cell_type": "code",
   "execution_count": 3,
   "id": "501e48c5-07c7-4b74-909d-3c2bec5a68cd",
   "metadata": {},
   "outputs": [
    {
     "data": {
      "application/vnd.jupyter.widget-view+json": {
       "model_id": "0518d173c3f049feb8f8a517a2290443",
       "version_major": 2,
       "version_minor": 0
      },
      "text/plain": [
       "HBox(children=(FloatProgress(value=0.0, max=361.0), HTML(value='')))"
      ]
     },
     "metadata": {},
     "output_type": "display_data"
    },
    {
     "name": "stdout",
     "output_type": "stream",
     "text": [
      "\n"
     ]
    }
   ],
   "source": [
    "import os\n",
    "from tqdm.notebook import tqdm\n",
    "from pydub import AudioSegment\n",
    "\n",
    "for audio_path in tqdm(glob(\"new_audios (copy)/*/*\")):\n",
    "    audio = AudioSegment.from_file(audio_path)\n",
    "    audio = audio.set_frame_rate(8000)\n",
    "    audio.export(audio_path, format=\"mp3\")"
   ]
  }
 ],
 "metadata": {
  "kernelspec": {
   "display_name": "Python 3 (ipykernel)",
   "language": "python",
   "name": "python3"
  },
  "language_info": {
   "codemirror_mode": {
    "name": "ipython",
    "version": 3
   },
   "file_extension": ".py",
   "mimetype": "text/x-python",
   "name": "python",
   "nbconvert_exporter": "python",
   "pygments_lexer": "ipython3",
   "version": "3.8.10"
  }
 },
 "nbformat": 4,
 "nbformat_minor": 5
}
